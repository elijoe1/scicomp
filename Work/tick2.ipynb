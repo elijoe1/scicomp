{
 "cells": [
  {
   "cell_type": "markdown",
   "metadata": {},
   "source": [
    "# Tick 2"
   ]
  },
  {
   "cell_type": "markdown",
   "metadata": {},
   "source": [
    "## Code"
   ]
  },
  {
   "cell_type": "markdown",
   "metadata": {},
   "source": [
    "### Initialization"
   ]
  },
  {
   "cell_type": "code",
   "execution_count": 3,
   "metadata": {},
   "outputs": [],
   "source": [
    "import numpy as np\n",
    "import pandas\n",
    "import matplotlib.pyplot as plt\n",
    "rng = np.random.default_rng(0)"
   ]
  },
  {
   "cell_type": "code",
   "execution_count": 4,
   "metadata": {},
   "outputs": [
    {
     "name": "stdout",
     "output_type": "stream",
     "text": [
      "file already downloaded!\n"
     ]
    }
   ],
   "source": [
    "import os.path\n",
    "if os.path.exists('covid_global_20201213.csv'):\n",
    "    print('file already downloaded!')\n",
    "else:\n",
    "    !wget \"https://www.cl.cam.ac.uk/teaching/2021/DataSci/data/covid_global_20201213.csv\""
   ]
  },
  {
   "cell_type": "code",
   "execution_count": 5,
   "metadata": {},
   "outputs": [],
   "source": [
    "covdata = pandas.read_csv('covid_global_20201213.csv')"
   ]
  },
  {
   "cell_type": "markdown",
   "metadata": {},
   "source": [
    "## Part a"
   ]
  },
  {
   "cell_type": "markdown",
   "metadata": {},
   "source": [
    "### Question 1"
   ]
  },
  {
   "cell_type": "code",
   "execution_count": 6,
   "metadata": {},
   "outputs": [],
   "source": [
    "covid = covdata[~pandas.isna(covdata.Population)]"
   ]
  },
  {
   "cell_type": "markdown",
   "metadata": {},
   "source": [
    "### Question 2"
   ]
  },
  {
   "cell_type": "code",
   "execution_count": 7,
   "metadata": {},
   "outputs": [],
   "source": [
    "ans2 = covdata[pandas.isna(covdata.Population)]\\\n",
    "    .loc[:, ['Country/Region', 'Province/State']].drop_duplicates()"
   ]
  },
  {
   "cell_type": "markdown",
   "metadata": {},
   "source": [
    "### Question 3"
   ]
  },
  {
   "cell_type": "code",
   "execution_count": 8,
   "metadata": {},
   "outputs": [],
   "source": [
    "ans3 = covid.loc[covid['Country/Region']=='United Kingdom']\\\n",
    ".groupby('Province/State', dropna=False).apply(len)"
   ]
  },
  {
   "cell_type": "markdown",
   "metadata": {},
   "source": [
    "### Question 4"
   ]
  },
  {
   "cell_type": "code",
   "execution_count": 9,
   "metadata": {},
   "outputs": [],
   "source": [
    "uknodep = covid.loc[covid['Country/Region']=='United Kingdom']\\\n",
    ".loc[pandas.isna(covid['Province/State'])]\n",
    "\n",
    "uknodep['Date'] = pandas.to_datetime(uknodep['Date'])\n",
    "\n",
    "uknodep['new_confirmed'] = uknodep['Confirmed']\\\n",
    ".transform(lambda x : x.diff())\n",
    "\n",
    "uknodep['new_deaths'] = uknodep['Deaths']\\\n",
    ".transform(lambda x : x.diff())\n",
    "\n",
    "uknodep['smooth_new_confirmed'] = uknodep['new_confirmed']\\\n",
    ".transform(lambda x : x.rolling(7).mean())\n",
    "\n",
    "ans4 = uknodep"
   ]
  },
  {
   "cell_type": "markdown",
   "metadata": {},
   "source": [
    "### Question 5"
   ]
  },
  {
   "cell_type": "code",
   "execution_count": 10,
   "metadata": {},
   "outputs": [
    {
     "data": {
      "image/png": "[encoded data removed]",
      "text/plain": [
       "<Figure size 720x216 with 2 Axes>"
      ]
     },
     "metadata": {
      "needs_background": "light"
     },
     "output_type": "display_data"
    }
   ],
   "source": [
    "fig, (ax1, ax2) = plt.subplots(2, 1, sharex=True, figsize=(10, 3))\n",
    "\n",
    "ax1.plot(ans4['Date'], ans4['smooth_new_confirmed'])\n",
    "ax1.bar(ans4['Date'], ans4['new_confirmed'])\n",
    "ax1.set_ylabel('daily cases')\n",
    "\n",
    "ax2.bar(ans4['Date'], ans4['new_deaths'])\n",
    "ax2.set_ylabel('daily deaths')\n",
    "plt.show()"
   ]
  },
  {
   "cell_type": "markdown",
   "metadata": {},
   "source": [
    "### Question 6"
   ]
  },
  {
   "cell_type": "code",
   "execution_count": 11,
   "metadata": {},
   "outputs": [
    {
     "name": "stderr",
     "output_type": "stream",
     "text": [
      "<ipython-input-11-f30a34c35981>:11: UserWarning: Boolean Series key will be reindexed to match DataFrame index.\n",
      "  provinces = provinces.drop_duplicates('Country/Region')\\\n",
      "<ipython-input-11-f30a34c35981>:16: SettingWithCopyWarning: \n",
      "A value is trying to be set on a copy of a slice from a DataFrame.\n",
      "Try using .loc[row_indexer,col_indexer] = value instead\n",
      "\n",
      "See the caveats in the documentation: https://pandas.pydata.org/pandas-docs/stable/user_guide/indexing.html#returning-a-view-versus-a-copy\n",
      "  provinces1['metropole'] = provinces1.groupby('Country/Region')\\\n"
     ]
    },
    {
     "data": {
      "text/plain": [
       "0         Australia\n",
       "1            Canada\n",
       "2             China\n",
       "3           Denmark\n",
       "4            France\n",
       "5       Netherlands\n",
       "6    United Kingdom\n",
       "Name: Country/Region, dtype: object"
      ]
     },
     "execution_count": 11,
     "metadata": {},
     "output_type": "execute_result"
    }
   ],
   "source": [
    "provinces = covid[['Country/Region', 'Province/State']]\n",
    "# provinces = provinces.drop_duplicates()\n",
    "# provinces['provinces'] = provinces\\\n",
    "#     .groupby('Country/Region').transform(len)\n",
    "\n",
    "provinces = provinces.drop_duplicates().dropna()\n",
    "\n",
    "provinces['provinces'] = provinces\\\n",
    "    .groupby('Country/Region').transform(len)\n",
    "\n",
    "provinces = provinces.drop_duplicates('Country/Region')\\\n",
    "    [provinces.provinces > 1]\n",
    "\n",
    "provinces1 = covid[['Country/Region', 'Province/State']]\n",
    "\n",
    "provinces1['metropole'] = provinces1.groupby('Country/Region')\\\n",
    "    .transform(lambda x: x.isnull().values.any().astype(int))\n",
    "\n",
    "provinces1 = provinces1.drop_duplicates('Country/Region')\n",
    "\n",
    "finalprov = provinces.merge(provinces1, on='Country/Region')\n",
    "\n",
    "finalprov = finalprov.loc[:, ['Country/Region', 'metropole', 'provinces']]\n",
    "\n",
    "ans6 = finalprov\n",
    "\n",
    "ans6['Country/Region']"
   ]
  },
  {
   "cell_type": "markdown",
   "metadata": {},
   "source": [
    "### Question 7"
   ]
  },
  {
   "cell_type": "code",
   "execution_count": 12,
   "metadata": {},
   "outputs": [
    {
     "name": "stdout",
     "output_type": "stream",
     "text": [
      "file already downloaded!\n"
     ]
    }
   ],
   "source": [
    "if os.path.exists('covid_countries_20201213.csv'):\n",
    "    print('file already downloaded!')\n",
    "else:\n",
    "    !wget \"https://www.cl.cam.ac.uk/teaching/2021/DataSci/data/covid_countries_20201213.csv\"\n",
    "    \n",
    "newcountries = pandas.read_csv('covid_countries_20201213.csv')\n",
    "\n",
    "newcountries['Population'] = newcountries.groupby('Country_Region')\\\n",
    "    ['Population'].transform(max)\n",
    "\n",
    "newcountries = newcountries[['Country_Region', 'Population', 'iso3']]"
   ]
  },
  {
   "cell_type": "code",
   "execution_count": 13,
   "metadata": {},
   "outputs": [],
   "source": [
    "newdf = covid.copy()\n",
    "\n",
    "addprovs = ['Australia', 'Canada', 'China']\n",
    "\n",
    "newdf = newdf.loc[newdf['Country/Region'].isin(addprovs)]\n",
    "\n",
    "newdf = newdf.dropna()\n",
    "\n",
    "newdf[['Confirmed', 'Deaths', 'Population']] = \\\n",
    "    newdf.groupby(['Date', 'Country/Region'])\\\n",
    "    [['Confirmed', 'Deaths', 'Population']].transform(sum)\n",
    "\n",
    "del newdf['Province/State']\n",
    "\n",
    "newdf = newdf.drop_duplicates(['Date', 'Country/Region'])\n",
    "\n",
    "addprovs = newdf"
   ]
  },
  {
   "cell_type": "code",
   "execution_count": 14,
   "metadata": {},
   "outputs": [],
   "source": [
    "newdf = covid.copy()\n",
    "\n",
    "keepnan = ['Denmark', 'France', 'Netherlands', 'United Kingdom']\n",
    "\n",
    "newdf = newdf.loc[newdf['Country/Region'].isin(keepnan)]\n",
    "\n",
    "newdf = newdf[newdf['Province/State'].isna()]\n",
    "\n",
    "keepnan = newdf\n",
    "\n",
    "newdf = covid.copy()\n",
    "\n",
    "keep = ['Australia', 'Canada', 'China', 'Denmark', \n",
    "        'France', 'Netherlands', 'United Kingdom']\n",
    "\n",
    "newdf = newdf.loc[~newdf['Country/Region'].isin(keep)]\n",
    "\n",
    "covidc = pandas.concat([newdf, keepnan, addprovs])\n",
    "\n",
    "del covidc['Province/State']\n",
    "\n",
    "covidc['Date'] = pandas.to_datetime(covidc['Date'])\n",
    "\n",
    "covidc = covidc.sort_values(['Country/Region', 'Date'])\n",
    "\n",
    "newcountries = newcountries.drop_duplicates(['Country_Region'])\n",
    "\n",
    "newcountries = newcountries.rename(columns=\n",
    "                                   {'Country_Region': \n",
    "                                    'Country/Region'}) \n",
    "\n",
    "del covidc['Population']\n",
    "\n",
    "del covidc['iso3']\n",
    "\n",
    "covidc = covidc.merge(newcountries, on='Country/Region')"
   ]
  },
  {
   "cell_type": "code",
   "execution_count": 15,
   "metadata": {},
   "outputs": [],
   "source": [
    "covidc = covidc.sort_values(['Country/Region', 'Date'])"
   ]
  },
  {
   "cell_type": "markdown",
   "metadata": {},
   "source": [
    "## Part b"
   ]
  },
  {
   "cell_type": "markdown",
   "metadata": {},
   "source": [
    "### Question 8"
   ]
  },
  {
   "cell_type": "code",
   "execution_count": 16,
   "metadata": {},
   "outputs": [],
   "source": [
    "ans8 = covidc[['Country/Region', 'Confirmed', 'Deaths']]\\\n",
    "    .groupby('Country/Region')[['Confirmed', 'Deaths']]\\\n",
    "    .apply(max).reset_index()"
   ]
  },
  {
   "cell_type": "markdown",
   "metadata": {},
   "source": [
    "### Question 9"
   ]
  },
  {
   "cell_type": "code",
   "execution_count": 17,
   "metadata": {},
   "outputs": [],
   "source": [
    "upto = covidc[covidc['Date'] == '2020-07-14']\n",
    "after = covidc[covidc['Date'] > '2020-07-14']\n",
    "\n",
    "upto = upto[['Country/Region', 'Confirmed', 'Deaths']]\\\n",
    "    .groupby('Country/Region')[['Confirmed', 'Deaths']]\\\n",
    "    .apply(max).reset_index()\n",
    "\n",
    "after = after[['Country/Region', 'Confirmed', 'Deaths']]\\\n",
    "    .groupby('Country/Region')[['Confirmed', 'Deaths']]\\\n",
    "    .apply(max).reset_index()\n",
    "\n",
    "upto = upto.rename(columns={'Confirmed': 'Confirmed1', \n",
    "                            'Deaths': 'Deaths1'})\n",
    "after = after.rename(columns={'Confirmed': 'Confirmed2', \n",
    "                              'Deaths': 'Deaths2'})\n",
    "\n",
    "ans9 = upto.merge(after, on='Country/Region')\n",
    "\n",
    "ans9['Deaths2'] = ans9['Deaths2'] - ans9['Deaths1']\n",
    "\n",
    "ans9['Confirmed2'] = ans9['Confirmed2'] - ans9['Confirmed1']\n",
    "\n",
    "ans9['case_multiplier'] = (ans9['Deaths1'] / ans9['Confirmed1']) / \\\n",
    "    (ans9['Deaths2'] / ans9['Confirmed2'])"
   ]
  },
  {
   "cell_type": "markdown",
   "metadata": {},
   "source": [
    "### Question 10"
   ]
  },
  {
   "cell_type": "code",
   "execution_count": 18,
   "metadata": {},
   "outputs": [],
   "source": [
    "ans10 = covidc.copy()\n",
    "\n",
    "ans10 = ans10.merge(ans9[['Country/Region', \n",
    "                  'case_multiplier']], on='Country/Region')\n",
    "\n",
    "ans10['new_confirmed'] = ans10.groupby(['Country/Region'])\\\n",
    "    ['Confirmed'].transform(lambda x : x.diff())\n",
    "\n",
    "ans10.loc[ans10['Date'] <= '2020-07-14', ['new_confirmed']] = \\\n",
    "    ans10['new_confirmed'] * ans10['case_multiplier']\n",
    "\n",
    "ans10['smooth_new_confirmed'] = ans10.groupby(['Country/Region'])\\\n",
    "    ['new_confirmed'].transform(lambda x : x.rolling(7).mean())\n",
    "\n",
    "ans10['infected'] = ans10.groupby(['Country/Region'])\\\n",
    "    ['smooth_new_confirmed'].transform(lambda x : x.rolling(10).sum())\n",
    "\n",
    "ans10['inc'] = ans10.groupby(['Country/Region'])\\\n",
    "    ['infected'].transform(lambda x : x.pct_change() + 1)\n",
    "\n",
    "ans10['R'] = 10 * (ans10['inc'] - 1) + 1"
   ]
  },
  {
   "cell_type": "markdown",
   "metadata": {},
   "source": [
    "### Question 11"
   ]
  },
  {
   "cell_type": "code",
   "execution_count": 22,
   "metadata": {},
   "outputs": [
    {
     "data": {
      "image/png": "[encoded data removed]",
      "text/plain": [
       "<Figure size 720x720 with 4 Axes>"
      ]
     },
     "metadata": {
      "needs_background": "light"
     },
     "output_type": "display_data"
    }
   ],
   "source": [
    "fig, (ax1, ax2, ax3, ax4) = plt.subplots(4, 1, sharex=True,\n",
    "                                         figsize=(10,10))\n",
    "\n",
    "ax4.set_xlabel('num. infected per 100k')\n",
    "ax4.set_xscale('log')\n",
    "plt.setp((ax1, ax2, ax3, ax4), xlim=(1, 10**3),ylim=(0, 3))\n",
    "\n",
    "fig.suptitle('R versus number infected per 100k')\n",
    "\n",
    "for (ax, country) in zip([ax1, ax2, ax3, ax4],\n",
    "                         ['United Kingdom', 'Italy', 'Germany', 'US']):\n",
    "    countrydata = ans10.loc[(ans10['Country/Region'] == country)]\n",
    "    ax.set_title(country)\n",
    "    ax.scatter(\n",
    "            countrydata['infected']/\n",
    "            (countrydata['Population']/100000), countrydata['R'],\n",
    "            marker = '+', c=range(len(countrydata['infected'])), \n",
    "            linewidth = 0.8)\n",
    "    ax.plot(\n",
    "        countrydata['infected']/\n",
    "        (countrydata['Population']/100000), countrydata['R'],\n",
    "        linewidth=0.4, color='grey')\n",
    "    ax.axhline(y=1, linewidth = 0.5)\n",
    "    ax.axhspan(10 * (0.5**(1/14)-1)+1, 10 * (2**(1/14)-1)+1, alpha=0.5, color='grey')\n",
    "    \n",
    "plt.show()"
   ]
  },
  {
   "cell_type": "markdown",
   "metadata": {},
   "source": [
    "## Answer Submission"
   ]
  },
  {
   "cell_type": "markdown",
   "metadata": {},
   "source": [
    "## Part a"
   ]
  },
  {
   "cell_type": "markdown",
   "metadata": {},
   "source": [
    "### Initialize Autograder"
   ]
  },
  {
   "cell_type": "code",
   "execution_count": 25,
   "metadata": {},
   "outputs": [
    {
     "name": "stdout",
     "output_type": "stream",
     "text": [
      "Waiting for you to log in .. done.\n"
     ]
    }
   ],
   "source": [
    "import ucamcl\n",
    "GRADER = ucamcl.autograder('https://markmy.solutions', course='scicomp').subsection('tick2a')"
   ]
  },
  {
   "cell_type": "markdown",
   "metadata": {},
   "source": [
    "### Question 1"
   ]
  },
  {
   "cell_type": "code",
   "execution_count": 26,
   "metadata": {},
   "outputs": [
    {
     "name": "stdout",
     "output_type": "stream",
     "text": [
      "Correct!\n"
     ]
    },
    {
     "data": {
      "text/plain": [
       "True"
      ]
     },
     "execution_count": 26,
     "metadata": {},
     "output_type": "execute_result"
    }
   ],
   "source": [
    "num_rows = len(covid)\n",
    "GRADER.submit_answer(GRADER.fetch_question('q1'), num_rows)"
   ]
  },
  {
   "cell_type": "markdown",
   "metadata": {},
   "source": [
    "### Question 2"
   ]
  },
  {
   "cell_type": "code",
   "execution_count": 27,
   "metadata": {},
   "outputs": [
    {
     "name": "stdout",
     "output_type": "stream",
     "text": [
      "Correct!\n"
     ]
    },
    {
     "data": {
      "text/plain": [
       "True"
      ]
     },
     "execution_count": 27,
     "metadata": {},
     "output_type": "execute_result"
    }
   ],
   "source": [
    "GRADER.submit_answer(GRADER.fetch_question('q2'), ans2)"
   ]
  },
  {
   "cell_type": "markdown",
   "metadata": {},
   "source": [
    "### Question 3"
   ]
  },
  {
   "cell_type": "code",
   "execution_count": 28,
   "metadata": {},
   "outputs": [
    {
     "name": "stdout",
     "output_type": "stream",
     "text": [
      "Correct!\n"
     ]
    },
    {
     "data": {
      "text/plain": [
       "True"
      ]
     },
     "execution_count": 28,
     "metadata": {},
     "output_type": "execute_result"
    }
   ],
   "source": [
    "GRADER.submit_answer(GRADER.fetch_question('q3'), \n",
    "                     ans3.reset_index(name='n'))"
   ]
  },
  {
   "cell_type": "markdown",
   "metadata": {},
   "source": [
    "### Question 4"
   ]
  },
  {
   "cell_type": "code",
   "execution_count": 29,
   "metadata": {},
   "outputs": [
    {
     "name": "stdout",
     "output_type": "stream",
     "text": [
      "Correct!\n"
     ]
    },
    {
     "data": {
      "text/plain": [
       "True"
      ]
     },
     "execution_count": 29,
     "metadata": {},
     "output_type": "execute_result"
    }
   ],
   "source": [
    "q = GRADER.fetch_question('q4')\n",
    "want = pandas.DataFrame(q.rows).assign(Date=lambda df: pandas.to_datetime(df.Date))\n",
    "submit = ans4.merge(want)[q.want_cols].assign(Date=lambda df: df.Date.astype(str))\n",
    "GRADER.submit_answer(q, submit)"
   ]
  },
  {
   "cell_type": "markdown",
   "metadata": {},
   "source": [
    "### Question 6"
   ]
  },
  {
   "cell_type": "code",
   "execution_count": 30,
   "metadata": {},
   "outputs": [
    {
     "name": "stdout",
     "output_type": "stream",
     "text": [
      "Correct!\n"
     ]
    },
    {
     "data": {
      "text/plain": [
       "True"
      ]
     },
     "execution_count": 30,
     "metadata": {},
     "output_type": "execute_result"
    }
   ],
   "source": [
    "GRADER.submit_answer(GRADER.fetch_question('q6'), ans6)"
   ]
  },
  {
   "cell_type": "markdown",
   "metadata": {},
   "source": [
    "### Question 7"
   ]
  },
  {
   "cell_type": "code",
   "execution_count": 31,
   "metadata": {},
   "outputs": [
    {
     "name": "stdout",
     "output_type": "stream",
     "text": [
      "Correct!\n"
     ]
    },
    {
     "data": {
      "text/plain": [
       "True"
      ]
     },
     "execution_count": 31,
     "metadata": {},
     "output_type": "execute_result"
    }
   ],
   "source": [
    "q = GRADER.fetch_question('q7')\n",
    "want = pandas.DataFrame(q.rows).assign(Date=lambda df: pandas.to_datetime(df.Date))\n",
    "submit = covidc.merge(want)[q.want_cols].assign(Date=lambda df: df.Date.astype(str))\n",
    "GRADER.submit_answer(q, {'num_rows': len(covidc), 'details': submit})"
   ]
  },
  {
   "cell_type": "markdown",
   "metadata": {},
   "source": [
    "## Part b"
   ]
  },
  {
   "cell_type": "markdown",
   "metadata": {},
   "source": [
    "### Initialise Autograder"
   ]
  },
  {
   "cell_type": "code",
   "execution_count": 122,
   "metadata": {},
   "outputs": [
    {
     "name": "stdout",
     "output_type": "stream",
     "text": [
      "Waiting for you to log in .. done.\n"
     ]
    }
   ],
   "source": [
    "GRADER = ucamcl.autograder('https://markmy.solutions', course='scicomp').subsection('tick2b')"
   ]
  },
  {
   "cell_type": "markdown",
   "metadata": {},
   "source": [
    "### Question 8"
   ]
  },
  {
   "cell_type": "code",
   "execution_count": 123,
   "metadata": {},
   "outputs": [
    {
     "name": "stdout",
     "output_type": "stream",
     "text": [
      "Correct!\n"
     ]
    },
    {
     "data": {
      "text/plain": [
       "True"
      ]
     },
     "execution_count": 123,
     "metadata": {},
     "output_type": "execute_result"
    }
   ],
   "source": [
    "q = GRADER.fetch_question('q8')\n",
    "submit = pandas.DataFrame(q.rows).merge(ans8)[q.want_cols]\n",
    "GRADER.submit_answer(q, submit)"
   ]
  },
  {
   "cell_type": "markdown",
   "metadata": {},
   "source": [
    "### Question 9"
   ]
  },
  {
   "cell_type": "code",
   "execution_count": 124,
   "metadata": {},
   "outputs": [
    {
     "name": "stdout",
     "output_type": "stream",
     "text": [
      "Correct!\n"
     ]
    },
    {
     "data": {
      "text/plain": [
       "True"
      ]
     },
     "execution_count": 124,
     "metadata": {},
     "output_type": "execute_result"
    }
   ],
   "source": [
    "q = GRADER.fetch_question('q9')\n",
    "submit = pandas.DataFrame(q.rows).merge(ans9)[q.want_cols]\n",
    "GRADER.submit_answer(q, submit)"
   ]
  },
  {
   "cell_type": "markdown",
   "metadata": {},
   "source": [
    "### Question 10"
   ]
  },
  {
   "cell_type": "code",
   "execution_count": 23,
   "metadata": {},
   "outputs": [
    {
     "ename": "NameError",
     "evalue": "name 'GRADER' is not defined",
     "output_type": "error",
     "traceback": [
      "\u001b[0;31m---------------------------------------------------------------------------\u001b[0m",
      "\u001b[0;31mNameError\u001b[0m                                 Traceback (most recent call last)",
      "\u001b[0;32m<ipython-input-23-91f1c9c02db7>\u001b[0m in \u001b[0;36m<module>\u001b[0;34m\u001b[0m\n\u001b[0;32m----> 1\u001b[0;31m \u001b[0mq\u001b[0m \u001b[0;34m=\u001b[0m \u001b[0mGRADER\u001b[0m\u001b[0;34m.\u001b[0m\u001b[0mfetch_question\u001b[0m\u001b[0;34m(\u001b[0m\u001b[0;34m'q10'\u001b[0m\u001b[0;34m)\u001b[0m\u001b[0;34m\u001b[0m\u001b[0;34m\u001b[0m\u001b[0m\n\u001b[0m\u001b[1;32m      2\u001b[0m \u001b[0mwant\u001b[0m \u001b[0;34m=\u001b[0m \u001b[0mpandas\u001b[0m\u001b[0;34m.\u001b[0m\u001b[0mDataFrame\u001b[0m\u001b[0;34m(\u001b[0m\u001b[0mq\u001b[0m\u001b[0;34m.\u001b[0m\u001b[0mrows\u001b[0m\u001b[0;34m)\u001b[0m\u001b[0;34m.\u001b[0m\u001b[0massign\u001b[0m\u001b[0;34m(\u001b[0m\u001b[0mDate\u001b[0m\u001b[0;34m=\u001b[0m\u001b[0;32mlambda\u001b[0m \u001b[0mdf\u001b[0m\u001b[0;34m:\u001b[0m \u001b[0mpandas\u001b[0m\u001b[0;34m.\u001b[0m\u001b[0mto_datetime\u001b[0m\u001b[0;34m(\u001b[0m\u001b[0mdf\u001b[0m\u001b[0;34m.\u001b[0m\u001b[0mDate\u001b[0m\u001b[0;34m)\u001b[0m\u001b[0;34m)\u001b[0m\u001b[0;34m\u001b[0m\u001b[0;34m\u001b[0m\u001b[0m\n\u001b[1;32m      3\u001b[0m \u001b[0msubmit\u001b[0m \u001b[0;34m=\u001b[0m \u001b[0mans10\u001b[0m\u001b[0;34m.\u001b[0m\u001b[0mmerge\u001b[0m\u001b[0;34m(\u001b[0m\u001b[0mwant\u001b[0m\u001b[0;34m)\u001b[0m\u001b[0;34m[\u001b[0m\u001b[0mq\u001b[0m\u001b[0;34m.\u001b[0m\u001b[0mwant_cols\u001b[0m\u001b[0;34m]\u001b[0m\u001b[0;34m.\u001b[0m\u001b[0massign\u001b[0m\u001b[0;34m(\u001b[0m\u001b[0mDate\u001b[0m\u001b[0;34m=\u001b[0m\u001b[0;32mlambda\u001b[0m \u001b[0mdf\u001b[0m\u001b[0;34m:\u001b[0m \u001b[0mdf\u001b[0m\u001b[0;34m.\u001b[0m\u001b[0mDate\u001b[0m\u001b[0;34m.\u001b[0m\u001b[0mastype\u001b[0m\u001b[0;34m(\u001b[0m\u001b[0mstr\u001b[0m\u001b[0;34m)\u001b[0m\u001b[0;34m)\u001b[0m\u001b[0;34m\u001b[0m\u001b[0;34m\u001b[0m\u001b[0m\n\u001b[1;32m      4\u001b[0m \u001b[0mGRADER\u001b[0m\u001b[0;34m.\u001b[0m\u001b[0msubmit_answer\u001b[0m\u001b[0;34m(\u001b[0m\u001b[0mq\u001b[0m\u001b[0;34m,\u001b[0m \u001b[0msubmit\u001b[0m\u001b[0;34m)\u001b[0m\u001b[0;34m\u001b[0m\u001b[0;34m\u001b[0m\u001b[0m\n",
      "\u001b[0;31mNameError\u001b[0m: name 'GRADER' is not defined"
     ]
    }
   ],
   "source": [
    "q = GRADER.fetch_question('q10')\n",
    "want = pandas.DataFrame(q.rows).assign(Date=lambda df: pandas.to_datetime(df.Date))\n",
    "submit = ans10.merge(want)[q.want_cols].assign(Date=lambda df: df.Date.astype(str))\n",
    "GRADER.submit_answer(q, submit)"
   ]
  },
  {
   "cell_type": "code",
   "execution_count": null,
   "metadata": {},
   "outputs": [],
   "source": []
  }
 ],
 "metadata": {
  "kernelspec": {
   "display_name": "Python 3",
   "language": "python",
   "name": "python3"
  },
  "language_info": {
   "codemirror_mode": {
    "name": "ipython",
    "version": 3
   },
   "file_extension": ".py",
   "mimetype": "text/x-python",
   "name": "python",
   "nbconvert_exporter": "python",
   "pygments_lexer": "ipython3",
   "version": "3.9.1"
  }
 },
 "nbformat": 4,
 "nbformat_minor": 4
}

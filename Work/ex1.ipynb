{
 "cells": [
  {
   "cell_type": "markdown",
   "metadata": {},
   "source": [
    "# Ex 1"
   ]
  },
  {
   "cell_type": "markdown",
   "metadata": {},
   "source": [
    "## Numpy warmup exercises"
   ]
  },
  {
   "cell_type": "markdown",
   "metadata": {},
   "source": [
    "### Preamble"
   ]
  },
  {
   "cell_type": "code",
   "execution_count": 168,
   "metadata": {},
   "outputs": [
    {
     "name": "stdout",
     "output_type": "stream",
     "text": [
      "Waiting for you to log in .. done.\n"
     ]
    }
   ],
   "source": [
    "import ucamcl\n",
    "GRADER = ucamcl.autograder('https://markmy.solutions', course='scicomp').subsection('ex1')"
   ]
  },
  {
   "cell_type": "markdown",
   "metadata": {},
   "source": [
    "### Q1"
   ]
  },
  {
   "cell_type": "code",
   "execution_count": 92,
   "metadata": {},
   "outputs": [],
   "source": [
    "import numpy as np\n",
    "import math, random\n",
    "rng = np.random.default_rng(0)"
   ]
  },
  {
   "cell_type": "code",
   "execution_count": 93,
   "metadata": {},
   "outputs": [],
   "source": [
    "x = rng.uniform(-1, 1, 1000000)\n",
    "y = rng.uniform(-1, 1, 1000000)\n",
    "d = np.sqrt(x**2 + y**2)"
   ]
  },
  {
   "cell_type": "code",
   "execution_count": 94,
   "metadata": {},
   "outputs": [
    {
     "name": "stdout",
     "output_type": "stream",
     "text": [
      "0.7653788363741706 0.28464670655850516\n"
     ]
    }
   ],
   "source": [
    "mean = np.mean(d)\n",
    "sd = np.std(d)\n",
    "print(mean, sd)"
   ]
  },
  {
   "cell_type": "code",
   "execution_count": 95,
   "metadata": {},
   "outputs": [
    {
     "name": "stdout",
     "output_type": "stream",
     "text": [
      "# Store x and y as two columns in an n*2 matrix\n",
      "xy = np.random.uniform(-1,1,size=(1000000,2))\n",
      "# axis=1 means \"compute the norm of each row\"\n",
      "d = np.linalg.norm(xy, axis=1)\n",
      "{'mean': np.mean(d), 'sd': np.std(d)}\n"
     ]
    }
   ],
   "source": [
    "q = GRADER.fetch_question('q1')\n",
    "print(q)"
   ]
  },
  {
   "cell_type": "code",
   "execution_count": 96,
   "metadata": {},
   "outputs": [
    {
     "data": {
      "text/plain": [
       "{'mean': 0.76483171015211, 'sd': 0.2845077008574853}"
      ]
     },
     "execution_count": 96,
     "metadata": {},
     "output_type": "execute_result"
    }
   ],
   "source": [
    "# Store x and y as two columns in an n*2 matrix\n",
    "xy = rng.uniform(-1,1,size=(1000000,2))\n",
    "# axis=1 means \"compute the norm of each row\"\n",
    "d = np.linalg.norm(xy, axis=1)\n",
    "{'mean': np.mean(d), 'sd': np.std(d)}"
   ]
  },
  {
   "cell_type": "markdown",
   "metadata": {},
   "source": [
    "### Q2"
   ]
  },
  {
   "cell_type": "code",
   "execution_count": 97,
   "metadata": {},
   "outputs": [
    {
     "name": "stdout",
     "output_type": "stream",
     "text": [
      "9.00900900900901\n"
     ]
    }
   ],
   "source": [
    "x = np.linspace(.1 ,10, 1000)\n",
    "a = x**2\n",
    "b = 0.01*(np.exp(x)-1)\n",
    "\n",
    "print(x[np.argmax(a<b)])"
   ]
  },
  {
   "cell_type": "code",
   "execution_count": 98,
   "metadata": {},
   "outputs": [
    {
     "name": "stdout",
     "output_type": "stream",
     "text": [
      "# argmax finds the first occurrence of the maximum of c\n",
      "c = np.where(a<b, 1, 0)\n",
      "i = np.argmax(c)\n",
      "x[i]\n",
      "\n",
      "# Or, a one-liner, using implicit conversion of boolean to 0/1\n",
      "x[np.argmax(a<b)]\n"
     ]
    }
   ],
   "source": [
    "q = GRADER.fetch_question('q2')\n",
    "print(q)"
   ]
  },
  {
   "cell_type": "markdown",
   "metadata": {},
   "source": [
    "### Q3"
   ]
  },
  {
   "cell_type": "code",
   "execution_count": 99,
   "metadata": {},
   "outputs": [
    {
     "name": "stdout",
     "output_type": "stream",
     "text": [
      "[4 0 1 2 5 3]\n",
      "[1 2 3 5 0 4]\n"
     ]
    },
    {
     "data": {
      "text/plain": [
       "array(['alexis2', 'chloe3', 'guarav4', 'shay6', 'adrian1', 'rebecca5'],\n",
       "      dtype='<U28')"
      ]
     },
     "execution_count": 99,
     "metadata": {},
     "output_type": "execute_result"
    }
   ],
   "source": [
    "names = np.array(['alexis','chloe','guarav','shay','adrian','rebecca'])\n",
    "i = np.argsort(names)\n",
    "print(i)\n",
    "names_rank = np.char.add(names[i], np.arange(1,7).astype(str))\n",
    "# j = np.array([1, 2, 3, 5, 0, 4])\n",
    "# names_rank[j]\n",
    "print(np.argsort(i))\n",
    "names_rank[np.argsort(i)]"
   ]
  },
  {
   "cell_type": "code",
   "execution_count": 100,
   "metadata": {},
   "outputs": [
    {
     "name": "stdout",
     "output_type": "stream",
     "text": [
      "# Calling np.argsort(i) gives the indexes that put i back in order\n",
      "# Here i = [4, 0, 1, 2, 5, 3] and names[i] = ['adrian','alexis','chloe',...]\n",
      "# And argsort(i) = [1, 2, 3, 5, 0, 4] meaning \"take element 1, then 2, then ...\"\n",
      "names_rank[np.argsort(i)]\n"
     ]
    }
   ],
   "source": [
    "q = GRADER.fetch_question('q3')\n",
    "print(q)"
   ]
  },
  {
   "cell_type": "markdown",
   "metadata": {},
   "source": [
    "### Q4"
   ]
  },
  {
   "cell_type": "code",
   "execution_count": 101,
   "metadata": {},
   "outputs": [
    {
     "name": "stdout",
     "output_type": "stream",
     "text": [
      "a.shape gives the full matrix dimensions, (nrows,ncols).\n",
      "len(a) gives nrows. (In fact len(a) always gives the first dimension, \n",
      "whether it's a vector or a multidimensional array.)\n"
     ]
    }
   ],
   "source": [
    "# a.shape gives a tuple of dimensions, and the first is len(a)\n",
    "\n",
    "q = GRADER.fetch_question('q4')\n",
    "print(q)"
   ]
  },
  {
   "cell_type": "markdown",
   "metadata": {},
   "source": [
    "### Q5"
   ]
  },
  {
   "cell_type": "code",
   "execution_count": 102,
   "metadata": {},
   "outputs": [],
   "source": [
    "vec = np.arange(1, 16)\n",
    "vec = np.reshape(vec, (3, 5))\n",
    "colsums = np.sum(vec, axis = 0)\n",
    "rowsums = np.sum(vec, axis = 1)\n",
    "# can use -1 for one of the reshape dimensions: infers from the size of the array and the other dimensions"
   ]
  },
  {
   "cell_type": "code",
   "execution_count": 103,
   "metadata": {},
   "outputs": [
    {
     "name": "stdout",
     "output_type": "stream",
     "text": [
      "x = np.arange(1,16).reshape(3,-1)\n",
      "print(\"colsums\", np.sum(x, axis=0))\n",
      "print(\"rowsums\", np.sum(x, axis=1))\n"
     ]
    }
   ],
   "source": [
    "q = GRADER.fetch_question('q5')\n",
    "print(q)"
   ]
  },
  {
   "cell_type": "markdown",
   "metadata": {},
   "source": [
    "### Q6"
   ]
  },
  {
   "cell_type": "code",
   "execution_count": 124,
   "metadata": {},
   "outputs": [
    {
     "data": {
      "text/plain": [
       "array([[1],\n",
       "       [2],\n",
       "       [3],\n",
       "       [4],\n",
       "       [5]])"
      ]
     },
     "execution_count": 124,
     "metadata": {},
     "output_type": "execute_result"
    }
   ],
   "source": [
    "n = 5\n",
    "np.arange(1, n+1)[:, None]\n",
    "np.arange(1, n+1).reshape(-1, 1)\n",
    "np.array([np.arange(1, n+1)]).transpose()"
   ]
  },
  {
   "cell_type": "code",
   "execution_count": 113,
   "metadata": {},
   "outputs": [
    {
     "name": "stdout",
     "output_type": "stream",
     "text": [
      "n = 5\n",
      "np.arange(1,n+1).reshape(-1,1)\n",
      "np.array([np.arange(1,n+1)]).T\n"
     ]
    }
   ],
   "source": [
    "q = GRADER.fetch_question('q6')\n",
    "print(q)"
   ]
  },
  {
   "cell_type": "markdown",
   "metadata": {},
   "source": [
    "### Q7"
   ]
  },
  {
   "cell_type": "code",
   "execution_count": 129,
   "metadata": {},
   "outputs": [
    {
     "data": {
      "text/plain": [
       "array([[0, 0, 1, 0, 0],\n",
       "       [0, 0, 0, 1, 0],\n",
       "       [1, 0, 0, 0, 0],\n",
       "       [0, 0, 0, 0, 1],\n",
       "       [0, 1, 0, 0, 0]])"
      ]
     },
     "execution_count": 129,
     "metadata": {},
     "output_type": "execute_result"
    }
   ],
   "source": [
    "n = 5\n",
    "cols = rng.permutation(n)\n",
    "rows = rng.permutation(n)\n",
    "a = np.zeros((n, n), dtype=int)\n",
    "a[rows, cols] = np.ones(n)\n",
    "# Can just use 1 instead on RHS\n",
    "a"
   ]
  },
  {
   "cell_type": "code",
   "execution_count": 130,
   "metadata": {},
   "outputs": [
    {
     "name": "stdout",
     "output_type": "stream",
     "text": [
      "n = 5\n",
      "# Create a matrix filled with 0\n",
      "a = np.zeros((n,n), dtype=int)\n",
      "# Use \"integer advanced indexing\" to set some elements to 1\n",
      "a[np.arange(n), np.random.permutation(n)] = 1\n"
     ]
    }
   ],
   "source": [
    "q = GRADER.fetch_question('q7')\n",
    "print(q)"
   ]
  },
  {
   "cell_type": "markdown",
   "metadata": {},
   "source": [
    "### Q8"
   ]
  },
  {
   "cell_type": "code",
   "execution_count": 166,
   "metadata": {},
   "outputs": [
    {
     "data": {
      "text/plain": [
       "array([2, 0, 0, 5, 4, 4, 2])"
      ]
     },
     "execution_count": 166,
     "metadata": {},
     "output_type": "execute_result"
    }
   ],
   "source": [
    "a = np.array([4,1,2,8,2,3,1])\n",
    "C = 3\n",
    "q_0 = 1\n",
    "x = np.cumsum(a - C)\n",
    "y = np.minimum.accumulate(q_0 + x)\n",
    "q = q_0 + x - np.minimum(0, y)\n",
    "q"
   ]
  },
  {
   "cell_type": "code",
   "execution_count": 169,
   "metadata": {},
   "outputs": [
    {
     "name": "stdout",
     "output_type": "stream",
     "text": [
      "a = np.array([4,1,2,8,2,3,1])\n",
      "q0, C = 1, 3\n",
      "x = np.cumsum(a - C)\n",
      "y = np.minimum.accumulate(q0 + x)\n",
      "q0 + x - np.minimum(0, y)\n"
     ]
    }
   ],
   "source": [
    "q = GRADER.fetch_question('q8')\n",
    "print(q)"
   ]
  }
 ],
 "metadata": {
  "kernelspec": {
   "display_name": "Python 3",
   "language": "python",
   "name": "python3"
  },
  "language_info": {
   "codemirror_mode": {
    "name": "ipython",
    "version": 3
   },
   "file_extension": ".py",
   "mimetype": "text/x-python",
   "name": "python",
   "nbconvert_exporter": "python",
   "pygments_lexer": "ipython3",
   "version": "3.9.1"
  }
 },
 "nbformat": 4,
 "nbformat_minor": 4
}

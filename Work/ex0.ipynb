{
 "cells": [
  {
   "cell_type": "code",
   "execution_count": 44,
   "metadata": {},
   "outputs": [
    {
     "name": "stdout",
     "output_type": "stream",
     "text": [
      "Waiting for you to log in .... done.\n"
     ]
    }
   ],
   "source": [
    "import ucamcl\n",
    "GRADER = ucamcl.autograder('https://markmy.solutions', course='scicomp').subsection('ex0')"
   ]
  },
  {
   "cell_type": "code",
   "execution_count": 35,
   "metadata": {},
   "outputs": [
    {
     "name": "stdout",
     "output_type": "stream",
     "text": [
      "Correct!\n"
     ]
    },
    {
     "data": {
      "text/plain": [
       "True"
      ]
     },
     "execution_count": 35,
     "metadata": {},
     "output_type": "execute_result"
    }
   ],
   "source": [
    "q = GRADER.fetch_question('q0')\n",
    "ans = [q.x] * q.n # create a list with q.n copies of q.x\n",
    "GRADER.submit_answer(q, ans)"
   ]
  },
  {
   "cell_type": "code",
   "execution_count": 36,
   "metadata": {},
   "outputs": [
    {
     "name": "stdout",
     "output_type": "stream",
     "text": [
      "import math, cmath\n",
      "math.log10(1200)\n",
      "math.tan(60/360*2*math.pi)\n",
      "cmath.sqrt(-20)\n"
     ]
    }
   ],
   "source": [
    "import math\n",
    "import cmath\n",
    "q = GRADER.fetch_question('q1')\n",
    "math.log(1200, 10)\n",
    "math.tan(60*(math.pi/180))\n",
    "cmath.sqrt(-20)\n",
    "print(q)"
   ]
  },
  {
   "cell_type": "code",
   "execution_count": 37,
   "metadata": {},
   "outputs": [
    {
     "name": "stdout",
     "output_type": "stream",
     "text": [
      "[1, 2, 'buckle my shoe'] ([1, 2, 'buckle my shoe'], 3, 4, 'knock at the door')\n",
      "The first line mutates the list referred to by b[0], but it does not change b itself.\n",
      "The second line tries to change b my altering its first element, but b is a tuple, so it cannot be changed.\n"
     ]
    }
   ],
   "source": [
    "a = [1, 2, 'buckle my shoe']\n",
    "b = (a, 3, 4, 'knock at the door')\n",
    "# b[0].append('then') works as value in tuple (reference to a) is unchanged, although a is changed\n",
    "# b[0] = a + ['then'] doesn't work as can't change value in tuple\n",
    "print(a, b)\n",
    "\n",
    "q = GRADER.fetch_question('q2')\n",
    "print(q)"
   ]
  },
  {
   "cell_type": "code",
   "execution_count": 38,
   "metadata": {},
   "outputs": [
    {
     "name": "stdout",
     "output_type": "stream",
     "text": [
      "Room 10 has adrian, guarav, rebecca\n",
      "Room 5 has chloe, zubin\n",
      "Room 11 has shay, alexis\n",
      "Given a dictionary rooms={room_name:[occ1,occ2,...],...} this code will iterate over all the rooms,\n",
      "filtering out the rooms where room_name is not None,\n",
      "for each room it will create a list of the occupants joined by commas e.g. \"occ1, occ2, occ3\",\n",
      "make a string \"Room r has occ1, occ2, occ3\",\n",
      "join all these strings together separated by a newline,\n",
      "and print out the resulting string.\n"
     ]
    }
   ],
   "source": [
    "rooms = {'adrian': 10, 'chloe': 5, 'guarav': 10, 'shay': 11, 'alexis': 11, 'rebecca': 10, 'zubin': 5}\n",
    "\n",
    "occupants = {}\n",
    "\n",
    "for name, room in rooms.items():\n",
    "    if room not in occupants:\n",
    "        occupants[room] = []\n",
    "    occupants[room].append(name)\n",
    "\n",
    "print('\\n'.join([f'Room {r} has {\", \".join(occs)}' for r, occs in occupants.items() if r is not None]))\n",
    "\n",
    "# will print for each room, string Room [number] has [occupants seperated by comma]\n",
    "# and then a newline, as long as r is not None.s\n",
    "\n",
    "q = GRADER.fetch_question('q3')\n",
    "print(q)"
   ]
  },
  {
   "cell_type": "code",
   "execution_count": 39,
   "metadata": {},
   "outputs": [
    {
     "name": "stdout",
     "output_type": "stream",
     "text": [
      "['shay', 'chloe', 'zubin', 'adrian', 'alexis', 'guarav', 'rebecca']\n",
      "names = ['adrian', 'chloe', 'guarav', 'shay', 'alexis', 'rebecca', 'zubin']\n",
      "[name for _,name in sorted([(len(name),name) for name in names])]\n"
     ]
    }
   ],
   "source": [
    "names = ['adrian', 'chloe', 'guarav', 'shay', 'alexis', 'rebecca', 'zubin']\n",
    "\n",
    "print([name for _, name in sorted([(len(name), name) for name in names])])\n",
    "\n",
    "q = GRADER.fetch_question('q4')\n",
    "print(q)"
   ]
  },
  {
   "cell_type": "code",
   "execution_count": 40,
   "metadata": {},
   "outputs": [
    {
     "name": "stdout",
     "output_type": "stream",
     "text": [
      "x = [2,3,1,5,2,2,5,1]\n",
      "len({xx:True for xx in x})\n",
      "\n",
      "(Though Python also has a \"set\" class for just this sort of task.)\n"
     ]
    }
   ],
   "source": [
    "x = [3, 4, 1, 21, 3, 2, 5, 21, 21]\n",
    "\n",
    "len({num: num for num in x})\n",
    "\n",
    "q = GRADER.fetch_question('q5')\n",
    "print(q)"
   ]
  },
  {
   "cell_type": "code",
   "execution_count": 46,
   "metadata": {},
   "outputs": [
    {
     "name": "stdout",
     "output_type": "stream",
     "text": [
      "[2, 0, 0, 5, 4, 4, 2]\n",
      "def sim(q0,C,a):\n",
      "    q = [q0]\n",
      "    for at in a:\n",
      "        q.append(max(q[-1] + at - C,0))\n",
      "    return q[1:]\n"
     ]
    }
   ],
   "source": [
    "def sim(q0, c, a):\n",
    "    qlist = []\n",
    "    q_t = q0\n",
    "    for a_t in a:\n",
    "        q_t = max(q_t + a_t - c, 0)\n",
    "        qlist.append(q_t)\n",
    "    return qlist\n",
    "\n",
    "print(sim(1, 3, [4,1,2,8,2,3,1]))\n",
    "\n",
    "q = GRADER.fetch_question('q6')\n",
    "print(q)\n",
    "\n",
    "def sim(q0,C,a):\n",
    "    q = [q0]\n",
    "    for at in a:\n",
    "        q.append(max(q[-1] + at - C,0))\n",
    "    return q[1:]"
   ]
  },
  {
   "cell_type": "code",
   "execution_count": 42,
   "metadata": {},
   "outputs": [
    {
     "name": "stdout",
     "output_type": "stream",
     "text": [
      "[9, [16, 36]]\n",
      "[3, [4, 6]]\n",
      "def maptree(f, x):\n",
      "    try:\n",
      "        return [maptree(f,xx) for xx in x]\n",
      "    except TypeError:\n",
      "        return f(x)\n",
      "\n",
      "x = [1,[[2,4,3],9],[5,[6,7],8]]\n",
      "maptree(lambda y: y+1, x)\n"
     ]
    }
   ],
   "source": [
    "def maptree(f, x):\n",
    "    x = x.copy()\n",
    "    for i in range(len(x)):\n",
    "        try: \n",
    "            x[i] = f(x[i])\n",
    "        except TypeError as e:\n",
    "            x[i] = maptree(f, x[i])\n",
    "    return x\n",
    "         \n",
    "a = [3, [4, 6]]\n",
    "print(maptree(lambda x: x**2, a))\n",
    "print(a)\n",
    "\n",
    "q = GRADER.fetch_question('q7')\n",
    "print(q)"
   ]
  }
 ],
 "metadata": {
  "kernelspec": {
   "display_name": "Python 3",
   "language": "python",
   "name": "python3"
  },
  "language_info": {
   "codemirror_mode": {
    "name": "ipython",
    "version": 3
   },
   "file_extension": ".py",
   "mimetype": "text/x-python",
   "name": "python",
   "nbconvert_exporter": "python",
   "pygments_lexer": "ipython3",
   "version": "3.9.1"
  }
 },
 "nbformat": 4,
 "nbformat_minor": 1
}

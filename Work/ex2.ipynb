{
 "cells": [
  {
   "cell_type": "markdown",
   "metadata": {},
   "source": [
    "# Ex 2"
   ]
  },
  {
   "cell_type": "markdown",
   "metadata": {},
   "source": [
    "## Pandas warmup exercises"
   ]
  },
  {
   "cell_type": "markdown",
   "metadata": {},
   "source": [
    "### Preamble"
   ]
  },
  {
   "cell_type": "code",
   "execution_count": 2,
   "metadata": {},
   "outputs": [
    {
     "name": "stdout",
     "output_type": "stream",
     "text": [
      "Waiting for you to log in .. done.\n"
     ]
    }
   ],
   "source": [
    "import ucamcl\n",
    "import pandas\n",
    "GRADER = ucamcl.autograder('https://markmy.solutions', course='scicomp').subsection('ex2')"
   ]
  },
  {
   "cell_type": "code",
   "execution_count": 3,
   "metadata": {},
   "outputs": [
    {
     "name": "stdout",
     "output_type": "stream",
     "text": [
      "file already downloaded\n"
     ]
    }
   ],
   "source": [
    "import os.path\n",
    "if os.path.exists('stop-and-search.csv'):\n",
    "    print(\"file already downloaded\")\n",
    "else:\n",
    "    !wget \"https://www.cl.cam.ac.uk/teaching/2021/DataSci/data/stop-and-search.csv\""
   ]
  },
  {
   "cell_type": "code",
   "execution_count": 4,
   "metadata": {},
   "outputs": [],
   "source": [
    "stopsearch = pandas.read_csv('stop-and-search.csv')"
   ]
  },
  {
   "cell_type": "markdown",
   "metadata": {},
   "source": [
    "### Q1"
   ]
  },
  {
   "cell_type": "code",
   "execution_count": 5,
   "metadata": {},
   "outputs": [
    {
     "name": "stdout",
     "output_type": "stream",
     "text": [
      "['Arrest' 'Caution (simple or conditional)' 'A no further action disposal'\n",
      " 'Khat or Cannabis warning' 'Summons / charged by post' nan\n",
      " 'Community resolution' 'Penalty Notice for Disorder' 'False'\n",
      " 'Offender given drugs possession warning' 'Local resolution'\n",
      " 'Suspect summonsed to court' 'Suspect arrested' 'Offender cautioned'\n",
      " 'Offender given penalty notice'\n",
      " 'Article found - Detailed outcome unavailable'\n",
      " 'Suspected psychoactive substances seized - No further action']\n"
     ]
    },
    {
     "data": {
      "text/plain": [
       "outcome\n",
       "A no further action disposal                                    467106\n",
       "False                                                           239660\n",
       "Arrest                                                           93384\n",
       "Suspect arrested                                                 63191\n",
       "Community resolution                                             35319\n",
       "Offender given drugs possession warning                          26030\n",
       "Khat or Cannabis warning                                         18668\n",
       "NaN                                                              17800\n",
       "Summons / charged by post                                        11168\n",
       "Penalty Notice for Disorder                                      10628\n",
       "Local resolution                                                  8164\n",
       "Article found - Detailed outcome unavailable                      6705\n",
       "Suspect summonsed to court                                        5758\n",
       "Offender given penalty notice                                     5623\n",
       "Caution (simple or conditional)                                   2947\n",
       "Offender cautioned                                                1747\n",
       "Suspected psychoactive substances seized - No further action        17\n",
       "dtype: int64"
      ]
     },
     "execution_count": 5,
     "metadata": {},
     "output_type": "execute_result"
    }
   ],
   "source": [
    "print(stopsearch['outcome'].unique())\n",
    "# To sort a series in ascending order .sort_values(axis, ascending)\n",
    "stopsearch.groupby('outcome').apply(len).sort_values(ascending=False)\n",
    "# Has one less category as nan is not a group\n",
    "# better to set dropna to False when grouping dataframe:\n",
    "stopsearch.groupby('outcome', dropna=False)\\\n",
    "    .apply(len).sort_values(ascending=False)"
   ]
  },
  {
   "cell_type": "code",
   "execution_count": 6,
   "metadata": {},
   "outputs": [
    {
     "name": "stdout",
     "output_type": "stream",
     "text": [
      "The list of unique values includes missing (NaN).\n",
      "The groupby method excludes missing, by default.\n",
      "To make it include missing, use dropna=False.\n",
      "To sort the counts in decreasing order, including missing values:\n",
      "    stopsearch.groupby('outcome', dropna=False).apply(len).sort_values(ascending=False)\n"
     ]
    }
   ],
   "source": [
    "q = GRADER.fetch_question('p1')\n",
    "print(q)"
   ]
  },
  {
   "cell_type": "markdown",
   "metadata": {},
   "source": [
    "### Q2"
   ]
  },
  {
   "cell_type": "code",
   "execution_count": 7,
   "metadata": {},
   "outputs": [
    {
     "data": {
      "text/html": [
       "<div>\n",
       "<style scoped>\n",
       "    .dataframe tbody tr th:only-of-type {\n",
       "        vertical-align: middle;\n",
       "    }\n",
       "\n",
       "    .dataframe tbody tr th {\n",
       "        vertical-align: top;\n",
       "    }\n",
       "\n",
       "    .dataframe thead th {\n",
       "        text-align: right;\n",
       "    }\n",
       "</style>\n",
       "<table border=\"1\" class=\"dataframe\">\n",
       "  <thead>\n",
       "    <tr style=\"text-align: right;\">\n",
       "      <th>gender</th>\n",
       "      <th>Female</th>\n",
       "      <th>Male</th>\n",
       "      <th>Other</th>\n",
       "    </tr>\n",
       "    <tr>\n",
       "      <th>officer_defined_ethnicity</th>\n",
       "      <th></th>\n",
       "      <th></th>\n",
       "      <th></th>\n",
       "    </tr>\n",
       "  </thead>\n",
       "  <tbody>\n",
       "    <tr>\n",
       "      <th>Asian</th>\n",
       "      <td>18-24</td>\n",
       "      <td>18-24</td>\n",
       "      <td>18-24</td>\n",
       "    </tr>\n",
       "    <tr>\n",
       "      <th>Black</th>\n",
       "      <td>18-24</td>\n",
       "      <td>18-24</td>\n",
       "      <td>18-24</td>\n",
       "    </tr>\n",
       "    <tr>\n",
       "      <th>Mixed</th>\n",
       "      <td>18-24</td>\n",
       "      <td>18-24</td>\n",
       "      <td>18-24</td>\n",
       "    </tr>\n",
       "    <tr>\n",
       "      <th>Other</th>\n",
       "      <td>18-24</td>\n",
       "      <td>18-24</td>\n",
       "      <td>18-24</td>\n",
       "    </tr>\n",
       "    <tr>\n",
       "      <th>White</th>\n",
       "      <td>18-24</td>\n",
       "      <td>18-24</td>\n",
       "      <td>18-24</td>\n",
       "    </tr>\n",
       "  </tbody>\n",
       "</table>\n",
       "</div>"
      ],
      "text/plain": [
       "gender                    Female   Male  Other\n",
       "officer_defined_ethnicity                     \n",
       "Asian                      18-24  18-24  18-24\n",
       "Black                      18-24  18-24  18-24\n",
       "Mixed                      18-24  18-24  18-24\n",
       "Other                      18-24  18-24  18-24\n",
       "White                      18-24  18-24  18-24"
      ]
     },
     "execution_count": 7,
     "metadata": {},
     "output_type": "execute_result"
    }
   ],
   "source": [
    "# have to select the first item in the series given by mode()!\n",
    "stopsearch.groupby(['officer_defined_ethnicity', 'gender'])\\\n",
    "    ['age_range'].apply(lambda x : x.mode().values[0]).unstack()"
   ]
  },
  {
   "cell_type": "code",
   "execution_count": 8,
   "metadata": {},
   "outputs": [
    {
     "name": "stdout",
     "output_type": "stream",
     "text": [
      "stopsearch.groupby(['officer_defined_ethnicity','gender'])['age_range']    .apply(lambda x: x.mode().values[0])    .unstack(fill_value=None)\n"
     ]
    }
   ],
   "source": [
    "q = GRADER.fetch_question('p2')\n",
    "print(q)"
   ]
  },
  {
   "cell_type": "markdown",
   "metadata": {},
   "source": [
    "### Q3"
   ]
  },
  {
   "cell_type": "code",
   "execution_count": 55,
   "metadata": {},
   "outputs": [
    {
     "data": {
      "text/html": [
       "<div>\n",
       "<style scoped>\n",
       "    .dataframe tbody tr th:only-of-type {\n",
       "        vertical-align: middle;\n",
       "    }\n",
       "\n",
       "    .dataframe tbody tr th {\n",
       "        vertical-align: top;\n",
       "    }\n",
       "\n",
       "    .dataframe thead th {\n",
       "        text-align: right;\n",
       "    }\n",
       "</style>\n",
       "<table border=\"1\" class=\"dataframe\">\n",
       "  <thead>\n",
       "    <tr style=\"text-align: right;\">\n",
       "      <th></th>\n",
       "      <th>A</th>\n",
       "      <th>B</th>\n",
       "      <th>X</th>\n",
       "    </tr>\n",
       "  </thead>\n",
       "  <tbody>\n",
       "    <tr>\n",
       "      <th>0</th>\n",
       "      <td>0</td>\n",
       "      <td>0</td>\n",
       "      <td>0</td>\n",
       "    </tr>\n",
       "    <tr>\n",
       "      <th>1</th>\n",
       "      <td>0</td>\n",
       "      <td>1</td>\n",
       "      <td>1</td>\n",
       "    </tr>\n",
       "    <tr>\n",
       "      <th>2</th>\n",
       "      <td>0</td>\n",
       "      <td>2</td>\n",
       "      <td>2</td>\n",
       "    </tr>\n",
       "    <tr>\n",
       "      <th>3</th>\n",
       "      <td>1</td>\n",
       "      <td>0</td>\n",
       "      <td>3</td>\n",
       "    </tr>\n",
       "    <tr>\n",
       "      <th>4</th>\n",
       "      <td>1</td>\n",
       "      <td>1</td>\n",
       "      <td>4</td>\n",
       "    </tr>\n",
       "    <tr>\n",
       "      <th>5</th>\n",
       "      <td>1</td>\n",
       "      <td>2</td>\n",
       "      <td>5</td>\n",
       "    </tr>\n",
       "  </tbody>\n",
       "</table>\n",
       "</div>"
      ],
      "text/plain": [
       "   A  B  X\n",
       "0  0  0  0\n",
       "1  0  1  1\n",
       "2  0  2  2\n",
       "3  1  0  3\n",
       "4  1  1  4\n",
       "5  1  2  5"
      ]
     },
     "execution_count": 55,
     "metadata": {},
     "output_type": "execute_result"
    }
   ],
   "source": [
    "df = pandas.DataFrame({'A': [0,0,0,1,1,1], \n",
    "                       'B': [0,1,2,0,1,2], \n",
    "                       'X': range(6)})\n",
    "\n",
    "df.groupby(['A', 'B'])['X'].apply(lambda x: x.values[0]).unstack()"
   ]
  },
  {
   "cell_type": "code",
   "execution_count": 30,
   "metadata": {},
   "outputs": [
    {
     "name": "stdout",
     "output_type": "stream",
     "text": [
      "df = pandas.DataFrame({'A': [0,0,0,1,1,1], 'B': [0,1,2,0,1,2], 'X': range(6)})\n",
      "df.groupby(['A','B'])['X'].apply(lambda x: x.values[0]).unstack()\n",
      "# Or apply(lambda x: x.iloc[0])\n",
      "# Or apply(lambda x: x.iat[0])\n",
      "# Or apply(sum)\n",
      "# The point is, you have to apply _some_ function, and the function has\n",
      "# to return a simple Python value.\n"
     ]
    }
   ],
   "source": [
    "q = GRADER.fetch_question('p3')\n",
    "print(q)"
   ]
  },
  {
   "cell_type": "markdown",
   "metadata": {},
   "source": [
    "### Q4"
   ]
  },
  {
   "cell_type": "code",
   "execution_count": 63,
   "metadata": {},
   "outputs": [
    {
     "data": {
      "text/html": [
       "<div>\n",
       "<style scoped>\n",
       "    .dataframe tbody tr th:only-of-type {\n",
       "        vertical-align: middle;\n",
       "    }\n",
       "\n",
       "    .dataframe tbody tr th {\n",
       "        vertical-align: top;\n",
       "    }\n",
       "\n",
       "    .dataframe thead th {\n",
       "        text-align: right;\n",
       "    }\n",
       "</style>\n",
       "<table border=\"1\" class=\"dataframe\">\n",
       "  <thead>\n",
       "    <tr style=\"text-align: right;\">\n",
       "      <th></th>\n",
       "      <th>force</th>\n",
       "      <th>month</th>\n",
       "      <th>age_range</th>\n",
       "      <th>datetime</th>\n",
       "      <th>gender</th>\n",
       "      <th>involved_person</th>\n",
       "      <th>legislation</th>\n",
       "      <th>location</th>\n",
       "      <th>location_latitude</th>\n",
       "      <th>location_longitude</th>\n",
       "      <th>...</th>\n",
       "      <th>officer_defined_ethnicity</th>\n",
       "      <th>operation</th>\n",
       "      <th>operation_name</th>\n",
       "      <th>outcome</th>\n",
       "      <th>outcome_linked_to_object_of_search</th>\n",
       "      <th>outcome_object_id</th>\n",
       "      <th>outcome_object_name</th>\n",
       "      <th>removal_of_more_than_outer_clothing</th>\n",
       "      <th>self_defined_ethnicity</th>\n",
       "      <th>type</th>\n",
       "    </tr>\n",
       "  </thead>\n",
       "  <tbody>\n",
       "    <tr>\n",
       "      <th>1013862</th>\n",
       "      <td>wiltshire</td>\n",
       "      <td>2016-09</td>\n",
       "      <td>over 34</td>\n",
       "      <td>2016-09-19T14:00:00+00:00</td>\n",
       "      <td>Male</td>\n",
       "      <td>False</td>\n",
       "      <td>Police and Criminal Evidence Act 1984 (section 1)</td>\n",
       "      <td>NaN</td>\n",
       "      <td>51.100550</td>\n",
       "      <td>-1.788938</td>\n",
       "      <td>...</td>\n",
       "      <td>White</td>\n",
       "      <td>False</td>\n",
       "      <td>NaN</td>\n",
       "      <td>False</td>\n",
       "      <td>NaN</td>\n",
       "      <td>nothing</td>\n",
       "      <td>Nothing found - No further action</td>\n",
       "      <td>NaN</td>\n",
       "      <td>White - White British (W1)</td>\n",
       "      <td>Vehicle search</td>\n",
       "    </tr>\n",
       "    <tr>\n",
       "      <th>1013913</th>\n",
       "      <td>wiltshire</td>\n",
       "      <td>2016-09</td>\n",
       "      <td>25-34</td>\n",
       "      <td>2016-09-29T21:00:00+00:00</td>\n",
       "      <td>Male</td>\n",
       "      <td>True</td>\n",
       "      <td>Misuse of Drugs Act 1971 (section 23)</td>\n",
       "      <td>NaN</td>\n",
       "      <td>51.432429</td>\n",
       "      <td>-2.200822</td>\n",
       "      <td>...</td>\n",
       "      <td>White</td>\n",
       "      <td>False</td>\n",
       "      <td>NaN</td>\n",
       "      <td>Offender given drugs possession warning</td>\n",
       "      <td>True</td>\n",
       "      <td>drugs</td>\n",
       "      <td>Offender given drugs possession warning</td>\n",
       "      <td>False</td>\n",
       "      <td>White - White British (W1)</td>\n",
       "      <td>Person search</td>\n",
       "    </tr>\n",
       "    <tr>\n",
       "      <th>1013914</th>\n",
       "      <td>wiltshire</td>\n",
       "      <td>2016-09</td>\n",
       "      <td>over 34</td>\n",
       "      <td>2016-09-30T07:21:00+00:00</td>\n",
       "      <td>Male</td>\n",
       "      <td>True</td>\n",
       "      <td>Misuse of Drugs Act 1971 (section 23)</td>\n",
       "      <td>NaN</td>\n",
       "      <td>51.600684</td>\n",
       "      <td>-1.825700</td>\n",
       "      <td>...</td>\n",
       "      <td>White</td>\n",
       "      <td>False</td>\n",
       "      <td>NaN</td>\n",
       "      <td>False</td>\n",
       "      <td>NaN</td>\n",
       "      <td>nothing</td>\n",
       "      <td>Nothing found - No further action</td>\n",
       "      <td>False</td>\n",
       "      <td>White - White British (W1)</td>\n",
       "      <td>Person and Vehicle search</td>\n",
       "    </tr>\n",
       "  </tbody>\n",
       "</table>\n",
       "<p>3 rows × 23 columns</p>\n",
       "</div>"
      ],
      "text/plain": [
       "             force    month age_range                   datetime gender  \\\n",
       "1013862  wiltshire  2016-09   over 34  2016-09-19T14:00:00+00:00   Male   \n",
       "1013913  wiltshire  2016-09     25-34  2016-09-29T21:00:00+00:00   Male   \n",
       "1013914  wiltshire  2016-09   over 34  2016-09-30T07:21:00+00:00   Male   \n",
       "\n",
       "         involved_person                                        legislation  \\\n",
       "1013862            False  Police and Criminal Evidence Act 1984 (section 1)   \n",
       "1013913             True              Misuse of Drugs Act 1971 (section 23)   \n",
       "1013914             True              Misuse of Drugs Act 1971 (section 23)   \n",
       "\n",
       "         location  location_latitude  location_longitude  ...  \\\n",
       "1013862       NaN          51.100550           -1.788938  ...   \n",
       "1013913       NaN          51.432429           -2.200822  ...   \n",
       "1013914       NaN          51.600684           -1.825700  ...   \n",
       "\n",
       "         officer_defined_ethnicity operation operation_name  \\\n",
       "1013862                      White     False            NaN   \n",
       "1013913                      White     False            NaN   \n",
       "1013914                      White     False            NaN   \n",
       "\n",
       "                                         outcome  \\\n",
       "1013862                                    False   \n",
       "1013913  Offender given drugs possession warning   \n",
       "1013914                                    False   \n",
       "\n",
       "        outcome_linked_to_object_of_search  outcome_object_id  \\\n",
       "1013862                                NaN            nothing   \n",
       "1013913                               True              drugs   \n",
       "1013914                                NaN            nothing   \n",
       "\n",
       "                             outcome_object_name  \\\n",
       "1013862        Nothing found - No further action   \n",
       "1013913  Offender given drugs possession warning   \n",
       "1013914        Nothing found - No further action   \n",
       "\n",
       "        removal_of_more_than_outer_clothing      self_defined_ethnicity  \\\n",
       "1013862                                 NaN  White - White British (W1)   \n",
       "1013913                               False  White - White British (W1)   \n",
       "1013914                               False  White - White British (W1)   \n",
       "\n",
       "                              type  \n",
       "1013862             Vehicle search  \n",
       "1013913              Person search  \n",
       "1013914  Person and Vehicle search  \n",
       "\n",
       "[3 rows x 23 columns]"
      ]
     },
     "execution_count": 63,
     "metadata": {},
     "output_type": "execute_result"
    }
   ],
   "source": [
    "stopsearch.drop_duplicates('type')\n",
    "stopsearch.groupby('type').tail(1)\n",
    "# First returns the dataframe with duplicate values \n",
    "# in columns specified removed. By default keeps the first occurence.\n",
    "# Second returns the last row of each group - so the last occurence.\n",
    "# Can make first do this by setting keep='last'. Can make second\n",
    "# do first by using head(1)."
   ]
  },
  {
   "cell_type": "code",
   "execution_count": 66,
   "metadata": {},
   "outputs": [
    {
     "name": "stdout",
     "output_type": "stream",
     "text": [
      "The drop_duplicates method picks an arbitrary row for each value of 'type'.\n",
      "The tail(1) method picks the last row for each value of 'type'. Obviously this depends on how the dataset is sorted.\n"
     ]
    }
   ],
   "source": [
    "q = GRADER.fetch_question('p4')\n",
    "print(q)"
   ]
  },
  {
   "cell_type": "markdown",
   "metadata": {},
   "source": [
    "### Q5"
   ]
  },
  {
   "cell_type": "code",
   "execution_count": 88,
   "metadata": {},
   "outputs": [
    {
     "data": {
      "text/html": [
       "<div>\n",
       "<style scoped>\n",
       "    .dataframe tbody tr th:only-of-type {\n",
       "        vertical-align: middle;\n",
       "    }\n",
       "\n",
       "    .dataframe tbody tr th {\n",
       "        vertical-align: top;\n",
       "    }\n",
       "\n",
       "    .dataframe thead th {\n",
       "        text-align: right;\n",
       "    }\n",
       "</style>\n",
       "<table border=\"1\" class=\"dataframe\">\n",
       "  <thead>\n",
       "    <tr style=\"text-align: right;\">\n",
       "      <th></th>\n",
       "      <th>time</th>\n",
       "      <th>event_type</th>\n",
       "      <th>∆t</th>\n",
       "    </tr>\n",
       "  </thead>\n",
       "  <tbody>\n",
       "    <tr>\n",
       "      <th>0</th>\n",
       "      <td>1</td>\n",
       "      <td>0</td>\n",
       "      <td>NaN</td>\n",
       "    </tr>\n",
       "    <tr>\n",
       "      <th>1</th>\n",
       "      <td>2</td>\n",
       "      <td>0</td>\n",
       "      <td>1.0</td>\n",
       "    </tr>\n",
       "    <tr>\n",
       "      <th>3</th>\n",
       "      <td>4</td>\n",
       "      <td>1</td>\n",
       "      <td>2.0</td>\n",
       "    </tr>\n",
       "    <tr>\n",
       "      <th>4</th>\n",
       "      <td>5</td>\n",
       "      <td>0</td>\n",
       "      <td>1.0</td>\n",
       "    </tr>\n",
       "    <tr>\n",
       "      <th>5</th>\n",
       "      <td>6</td>\n",
       "      <td>1</td>\n",
       "      <td>1.0</td>\n",
       "    </tr>\n",
       "    <tr>\n",
       "      <th>7</th>\n",
       "      <td>8</td>\n",
       "      <td>1</td>\n",
       "      <td>2.0</td>\n",
       "    </tr>\n",
       "  </tbody>\n",
       "</table>\n",
       "</div>"
      ],
      "text/plain": [
       "   time  event_type   ∆t\n",
       "0     1           0  NaN\n",
       "1     2           0  1.0\n",
       "3     4           1  2.0\n",
       "4     5           0  1.0\n",
       "5     6           1  1.0\n",
       "7     8           1  2.0"
      ]
     },
     "execution_count": 88,
     "metadata": {},
     "output_type": "execute_result"
    }
   ],
   "source": [
    "df = pandas.DataFrame({'time': [1,2,3,4,5,6,7,8], \n",
    "                       'event_type': [0,0,2,1,0,1,2,1]})\n",
    "\n",
    "df['∆t'] = df[df['event_type'].isin([0,1])]\\\n",
    "['time'].transform(lambda x : x.diff())\n",
    "\n",
    "df[df['event_type'].isin([0, 1])]"
   ]
  },
  {
   "cell_type": "code",
   "execution_count": 87,
   "metadata": {},
   "outputs": [
    {
     "name": "stdout",
     "output_type": "stream",
     "text": [
      "df = pandas.DataFrame({'time': [1,2,3,4,5,6,7,8], 'event_type': [0,0,2,1,0,1,2,1]})\n",
      "df = df.loc[df.event_type.isin([0,1])]\n",
      "df['Δt'] = df['time'].diff()\n"
     ]
    }
   ],
   "source": [
    "q = GRADER.fetch_question('p5')\n",
    "print(q)"
   ]
  },
  {
   "cell_type": "markdown",
   "metadata": {},
   "source": [
    "### Q6"
   ]
  },
  {
   "cell_type": "code",
   "execution_count": 97,
   "metadata": {},
   "outputs": [
    {
     "data": {
      "text/html": [
       "<div>\n",
       "<style scoped>\n",
       "    .dataframe tbody tr th:only-of-type {\n",
       "        vertical-align: middle;\n",
       "    }\n",
       "\n",
       "    .dataframe tbody tr th {\n",
       "        vertical-align: top;\n",
       "    }\n",
       "\n",
       "    .dataframe thead th {\n",
       "        text-align: right;\n",
       "    }\n",
       "</style>\n",
       "<table border=\"1\" class=\"dataframe\">\n",
       "  <thead>\n",
       "    <tr style=\"text-align: right;\">\n",
       "      <th></th>\n",
       "      <th>time</th>\n",
       "      <th>event_type</th>\n",
       "      <th>∆t</th>\n",
       "      <th>∆te</th>\n",
       "    </tr>\n",
       "  </thead>\n",
       "  <tbody>\n",
       "    <tr>\n",
       "      <th>0</th>\n",
       "      <td>1</td>\n",
       "      <td>0</td>\n",
       "      <td>NaN</td>\n",
       "      <td>NaN</td>\n",
       "    </tr>\n",
       "    <tr>\n",
       "      <th>1</th>\n",
       "      <td>2</td>\n",
       "      <td>0</td>\n",
       "      <td>1.0</td>\n",
       "      <td>1.0</td>\n",
       "    </tr>\n",
       "    <tr>\n",
       "      <th>4</th>\n",
       "      <td>5</td>\n",
       "      <td>0</td>\n",
       "      <td>1.0</td>\n",
       "      <td>3.0</td>\n",
       "    </tr>\n",
       "    <tr>\n",
       "      <th>3</th>\n",
       "      <td>4</td>\n",
       "      <td>1</td>\n",
       "      <td>2.0</td>\n",
       "      <td>NaN</td>\n",
       "    </tr>\n",
       "    <tr>\n",
       "      <th>5</th>\n",
       "      <td>6</td>\n",
       "      <td>1</td>\n",
       "      <td>1.0</td>\n",
       "      <td>2.0</td>\n",
       "    </tr>\n",
       "    <tr>\n",
       "      <th>7</th>\n",
       "      <td>8</td>\n",
       "      <td>1</td>\n",
       "      <td>2.0</td>\n",
       "      <td>2.0</td>\n",
       "    </tr>\n",
       "    <tr>\n",
       "      <th>2</th>\n",
       "      <td>3</td>\n",
       "      <td>2</td>\n",
       "      <td>NaN</td>\n",
       "      <td>NaN</td>\n",
       "    </tr>\n",
       "    <tr>\n",
       "      <th>6</th>\n",
       "      <td>7</td>\n",
       "      <td>2</td>\n",
       "      <td>NaN</td>\n",
       "      <td>4.0</td>\n",
       "    </tr>\n",
       "  </tbody>\n",
       "</table>\n",
       "</div>"
      ],
      "text/plain": [
       "   time  event_type   ∆t  ∆te\n",
       "0     1           0  NaN  NaN\n",
       "1     2           0  1.0  1.0\n",
       "4     5           0  1.0  3.0\n",
       "3     4           1  2.0  NaN\n",
       "5     6           1  1.0  2.0\n",
       "7     8           1  2.0  2.0\n",
       "2     3           2  NaN  NaN\n",
       "6     7           2  NaN  4.0"
      ]
     },
     "execution_count": 97,
     "metadata": {},
     "output_type": "execute_result"
    }
   ],
   "source": [
    "df['∆te'] = df.groupby('event_type')['time']\\\n",
    "    .transform(lambda x : x.diff())\n",
    "\n",
    "df.sort_values(['event_type', 'time'])"
   ]
  },
  {
   "cell_type": "code",
   "execution_count": 98,
   "metadata": {},
   "outputs": [
    {
     "name": "stdout",
     "output_type": "stream",
     "text": [
      "df = pandas.DataFrame({'time': [1,2,3,4,5,6,7,8], 'event_type': [0,0,2,1,0,1,2,1]})\n",
      "df['Δt'] = df.groupby('event_type')['time'].transform(lambda x: x.diff())\n",
      "df = df.sort_values(['event_type','time'])\n"
     ]
    }
   ],
   "source": [
    "q = GRADER.fetch_question('p6')\n",
    "print(q)"
   ]
  }
 ],
 "metadata": {
  "kernelspec": {
   "display_name": "Python 3",
   "language": "python",
   "name": "python3"
  },
  "language_info": {
   "codemirror_mode": {
    "name": "ipython",
    "version": 3
   },
   "file_extension": ".py",
   "mimetype": "text/x-python",
   "name": "python",
   "nbconvert_exporter": "python",
   "pygments_lexer": "ipython3",
   "version": "3.9.1"
  }
 },
 "nbformat": 4,
 "nbformat_minor": 4
}
